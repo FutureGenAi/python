{
 "cells": [
  {
   "cell_type": "markdown",
   "id": "8467e803",
   "metadata": {},
   "source": [
    "Classes"
   ]
  },
  {
   "cell_type": "code",
   "execution_count": 1,
   "id": "eee3557c",
   "metadata": {},
   "outputs": [
    {
     "name": "stdout",
     "output_type": "stream",
     "text": [
      "Account number: 1234567, Account Holder name: Aishu, Balance: 12000\n"
     ]
    }
   ],
   "source": [
    "class BankAccount:\n",
    "    def __init__(self,acc_no,name,balance=0):\n",
    "        self.acc_no = acc_no\n",
    "        self.name = name\n",
    "        self.balance = balance\n",
    "    def __str__(self):\n",
    "        return f\"Account number: {self.acc_no}, Account Holder name: {self.name}, Balance: {self.balance}\"\n",
    "\n",
    "details = BankAccount(1234567,\"Aishu\",12000) \n",
    "print(details)"
   ]
  },
  {
   "cell_type": "code",
   "execution_count": 21,
   "id": "08c55b65",
   "metadata": {},
   "outputs": [],
   "source": [
    "class BankAccount:\n",
    "    def __init__(self,acc_no,name,balance=0):\n",
    "        self.acc_no = acc_no\n",
    "        self.name = name\n",
    "        self.balance = balance\n",
    "    def deposit(self,amount):\n",
    "        self.balance+=amount\n",
    "    def withdraw(self,amount):\n",
    "        if self.balance >= amount:\n",
    "            self.balance -= amount\n",
    "        else:\n",
    "            print(\"Insuficient balance\")\n",
    "    def __str__(self):\n",
    "        return f\"Account number: {self.acc_no}, Account Holder name: {self.name}, Balance: {self.balance}\"\n"
   ]
  },
  {
   "cell_type": "code",
   "execution_count": 22,
   "id": "71f23f60",
   "metadata": {},
   "outputs": [
    {
     "name": "stdout",
     "output_type": "stream",
     "text": [
      "11200\n"
     ]
    }
   ],
   "source": [
    "details = BankAccount(1234567,\"Aishu\",1200)   \n",
    "details.deposit(10000)\n",
    "print(details.balance)"
   ]
  },
  {
   "cell_type": "code",
   "execution_count": 24,
   "id": "24569e10",
   "metadata": {},
   "outputs": [
    {
     "name": "stdout",
     "output_type": "stream",
     "text": [
      "Insuficient balance\n",
      "9200\n",
      "Account number: 1234567, Account Holder name: Aishu, Balance: 9200\n"
     ]
    }
   ],
   "source": [
    "details.withdraw(20000)\n",
    "print(details.balance)\n",
    "print(details)"
   ]
  },
  {
   "cell_type": "code",
   "execution_count": 49,
   "id": "0c1f5870",
   "metadata": {},
   "outputs": [],
   "source": [
    "#To do list\n",
    "class ToDoList:\n",
    "    def __init__(self,user):\n",
    "        self.user = user\n",
    "        self.tasks = []\n",
    "        \n",
    "    def addTask(self,task):\n",
    "        #task = list(input(\"Enter the task: \"))\n",
    "        self.tasks.append(task)\n",
    "        \n",
    "    def complete_task(self,task):\n",
    "        if task in self.tasks:\n",
    "            self.tasks.remove(task)\n",
    "            print(f\"Task '{task}' completed\")\n",
    "        else:\n",
    "            print(\"Task Not found\")\n",
    "            \n",
    "    def display_task(self):\n",
    "        print(f\"The todotask of {self.user} : \")\n",
    "        for task in self.tasks:\n",
    "            print(task)"
   ]
  },
  {
   "cell_type": "code",
   "execution_count": 50,
   "id": "7bc7b369",
   "metadata": {},
   "outputs": [],
   "source": [
    "todolist = ToDoList(\"Aiyshu\")\n"
   ]
  },
  {
   "cell_type": "code",
   "execution_count": 51,
   "id": "73616257",
   "metadata": {},
   "outputs": [
    {
     "name": "stdout",
     "output_type": "stream",
     "text": [
      "The todotask of Aiyshu : \n",
      "I want to eat breakfast\n",
      "Need to complete the python assignment\n",
      "I want to eat my lunch\n"
     ]
    }
   ],
   "source": [
    "todolist.addTask(\"I want to eat breakfast\")\n",
    "todolist.addTask(\"Need to complete the python assignment\")\n",
    "todolist.addTask(\"I want to eat my lunch\")\n",
    "todolist.display_task()"
   ]
  },
  {
   "cell_type": "code",
   "execution_count": 53,
   "id": "06df8799",
   "metadata": {},
   "outputs": [
    {
     "name": "stdout",
     "output_type": "stream",
     "text": [
      "Task 'I want to eat breakfast' completed\n"
     ]
    }
   ],
   "source": [
    "todolist.complete_task(\"I want to eat breakfast\")\n",
    "#todolist.display_task()"
   ]
  },
  {
   "cell_type": "code",
   "execution_count": 54,
   "id": "5c8951b0",
   "metadata": {},
   "outputs": [
    {
     "name": "stdout",
     "output_type": "stream",
     "text": [
      "The todotask of Aiyshu : \n",
      "Need to complete the python assignment\n",
      "I want to eat my lunch\n"
     ]
    }
   ],
   "source": [
    "todolist.display_task()"
   ]
  },
  {
   "cell_type": "code",
   "execution_count": 56,
   "id": "59554946",
   "metadata": {},
   "outputs": [],
   "source": [
    "class Car:\n",
    "    def __init__(self,brand,model,color):\n",
    "        self.brand = brand\n",
    "        self.model = model\n",
    "        self.color = color\n",
    "        self.store=[]\n",
    "        \n",
    "    def startEngine(self):\n",
    "        print(f\"{self.brand} {self.color} {self.model} is starting\")\n",
    "        \n",
    "    def stopEngine(self):    \n",
    "        print(f\"{self.brand} {self.color} {self.model} is starting\")\n",
    "    "
   ]
  },
  {
   "cell_type": "code",
   "execution_count": 57,
   "id": "0debc4e9",
   "metadata": {},
   "outputs": [
    {
     "data": {
      "text/plain": [
       "'AUDI'"
      ]
     },
     "execution_count": 57,
     "metadata": {},
     "output_type": "execute_result"
    }
   ],
   "source": [
    "car = Car(\"AUDI\",\"Self Driving\",\"White\")\n",
    "car.brand"
   ]
  },
  {
   "cell_type": "code",
   "execution_count": 61,
   "id": "15918e93",
   "metadata": {},
   "outputs": [],
   "source": [
    "class Laptop:\n",
    "    def __init__(self,brand,model):\n",
    "        self.brand = brand\n",
    "        self.model = model\n",
    "        self.store=[]\n",
    "        \n",
    "    def powerOn(self):\n",
    "        print(f\"{self.brand} {self.model} is Started\")\n",
    "        \n",
    "    def powerOff(self):    \n",
    "        print(f\"{self.brand} {self.model} is Shutdown\")\n",
    "    \n",
    "        "
   ]
  },
  {
   "cell_type": "code",
   "execution_count": 62,
   "id": "d2b6c51d",
   "metadata": {},
   "outputs": [
    {
     "name": "stdout",
     "output_type": "stream",
     "text": [
      "HP 8th Gen is Started\n"
     ]
    }
   ],
   "source": [
    "laptop = Laptop(\"HP\",\"8th Gen\")\n",
    "laptop.powerOn()"
   ]
  },
  {
   "cell_type": "code",
   "execution_count": 66,
   "id": "c5a2a2d3",
   "metadata": {},
   "outputs": [
    {
     "data": {
      "text/plain": [
       "['__class__',\n",
       " '__delattr__',\n",
       " '__dict__',\n",
       " '__dir__',\n",
       " '__doc__',\n",
       " '__eq__',\n",
       " '__format__',\n",
       " '__ge__',\n",
       " '__getattribute__',\n",
       " '__gt__',\n",
       " '__hash__',\n",
       " '__init__',\n",
       " '__init_subclass__',\n",
       " '__le__',\n",
       " '__lt__',\n",
       " '__module__',\n",
       " '__ne__',\n",
       " '__new__',\n",
       " '__reduce__',\n",
       " '__reduce_ex__',\n",
       " '__repr__',\n",
       " '__setattr__',\n",
       " '__sizeof__',\n",
       " '__str__',\n",
       " '__subclasshook__',\n",
       " '__weakref__',\n",
       " 'powerOff',\n",
       " 'powerOn']"
      ]
     },
     "execution_count": 66,
     "metadata": {},
     "output_type": "execute_result"
    }
   ],
   "source": [
    "dir(Laptop)"
   ]
  },
  {
   "cell_type": "code",
   "execution_count": 2,
   "id": "ae1beaef",
   "metadata": {},
   "outputs": [
    {
     "name": "stdout",
     "output_type": "stream",
     "text": [
      "-2875575476302658107\n",
      "-2875575476302658107\n"
     ]
    }
   ],
   "source": [
    "class Person:\n",
    "    def __init__(self, name):\n",
    "        self.name = name\n",
    "    \n",
    "    def __hash__(self):\n",
    "        return hash(self.name)\n",
    "\n",
    "person = Person(\"Alice\")\n",
    "print(hash(person))  # Output: <hash value>\n",
    "print(hash(person.name)) "
   ]
  },
  {
   "cell_type": "code",
   "execution_count": 5,
   "id": "0d99ee42",
   "metadata": {},
   "outputs": [
    {
     "name": "stdout",
     "output_type": "stream",
     "text": [
      "__main__\n"
     ]
    }
   ],
   "source": [
    "class MyClass:\n",
    "    pass\n",
    "\n",
    "print(MyClass.__module__)  # Output: __main__\n"
   ]
  },
  {
   "cell_type": "markdown",
   "id": "18bdf430",
   "metadata": {},
   "source": [
    "__class__:\n",
    "    The __class__ attribute is a built-in attribute in Python that is automatically created for every object instance. It refers to the class of the object, providing access to the class itself.\n",
    "class MyClass:\n",
    "    pass\n",
    "\n",
    "obj = MyClass()\n",
    "print(obj.__class__)  # Output: <class '__main__.MyClass'>\n",
    "    "
   ]
  },
  {
   "cell_type": "markdown",
   "id": "ce4f3245",
   "metadata": {},
   "source": [
    "__delattr__:\n",
    "    The __delattr__ method is a special method in Python that allows you to define custom behavior when an attribute is deleted from an object using the del statement.\n",
    "    It's generally recommended to be cautious when using __delattr__ and to consider alternative approaches, as it can be complex to manage object cleanup and deletion properly.\n",
    "class MyClass:\n",
    "    def __init__(self):\n",
    "        self.attribute = 10\n",
    "    \n",
    "    def __delattr__(self, name):\n",
    "        print(f\"Deleting attribute {name}\")\n",
    "        super().__delattr__(name)\n",
    "\n",
    "obj = MyClass()\n",
    "print(obj.attribute)  # Output: 10\n",
    "\n",
    "del obj.attribute  # Output: Deleting attribute attribute\n",
    "\n",
    "print(obj.attribute)  # Output: AttributeError: 'MyClass' object has no attribute 'attribute'\n",
    "    "
   ]
  },
  {
   "cell_type": "markdown",
   "id": "465c718c",
   "metadata": {},
   "source": [
    "__dict__:\n",
    "    The __dict__ attribute is a dictionary that contains the attributes and their corresponding values for an object in Python. It provides a way to access, modify, and manipulate the attributes of an object dynamically.\n",
    "    It's important to note that accessing or modifying attributes directly using __dict__ is not considered best practice in most cases. \n",
    "    However, the __dict__ attribute can be useful in certain situations that require dynamic attribute manipulation or introspection.\n",
    "    \n",
    "class MyClass:\n",
    "    def __init__(self, x, y):\n",
    "        self.x = x\n",
    "        self.y = y\n",
    "\n",
    "obj = MyClass(10, 20)\n",
    "print(obj.__dict__)  # Output: {'x': 10, 'y': 20}\n",
    "\n",
    "obj.z = 30\n",
    "print(obj.__dict__)  # Output: {'x': 10, 'y': 20, 'z': 30}\n",
    "\n",
    "del obj.y\n",
    "print(obj.__dict__)  # Output: {'x': 10, 'z': 30}\n",
    "\n"
   ]
  },
  {
   "cell_type": "markdown",
   "id": "7f02aa7e",
   "metadata": {},
   "source": [
    "__dir__:\n",
    "    The __dir__ method is a special method in Python that allows you to customize the behavior of the built-in dir() function for objects of a class. The dir() function is used to retrieve a list of valid attributes and methods of an object.\n",
    "\n",
    "When dir(obj) is called, it internally invokes the obj.__dir__() method if it exists. The __dir__ method should return a list of strings representing the attributes and methods that are accessible on the object.\n",
    "\n",
    "class MyClass:\n",
    "    def __dir__(self):\n",
    "        return ['attribute1', 'attribute2', 'method1', 'method2']\n",
    "\n",
    "obj = MyClass()\n",
    "print(dir(obj))  # Output: ['attribute1', 'attribute2', 'method1', 'method2']\n"
   ]
  },
  {
   "cell_type": "markdown",
   "id": "d6f8ed49",
   "metadata": {},
   "source": [
    "__doc__:\n",
    "    The __doc__ attribute is a special attribute in Python that stores the documentation string (docstring) of a class, function, method, or module. The docstring is a string literal used to provide documentation about the object.\n",
    "\n",
    "class MyClass:\n",
    "    \"\"\"This is the docstring of MyClass.\"\"\"\n",
    "    pass\n",
    "\n",
    "print(MyClass.__doc__)  # Output: This is the docstring of MyClass.\n"
   ]
  },
  {
   "cell_type": "markdown",
   "id": "74c15ec7",
   "metadata": {},
   "source": [
    "__eq__:\n",
    "    The __eq__ method is a special method in Python that allows you to define custom behavior for the equality comparison between objects using the == operator. It enables you to override the default equality behavior inherited from the base object class.\n",
    "    \n",
    "class Point:\n",
    "    def __init__(self, x, y):\n",
    "        self.x = x\n",
    "        self.y = y\n",
    "\n",
    "    def __eq__(self, other):\n",
    "        if isinstance(other, Point):\n",
    "            return self.x == other.x and self.y == other.y\n",
    "        return False\n",
    "\n",
    "p1 = Point(2, 3)\n",
    "p2 = Point(2, 3)\n",
    "p3 = Point(4, 5)\n",
    "\n",
    "print(p1 == p2)  # Output: True\n",
    "print(p1 == p3)  # Output: False\n",
    "    "
   ]
  },
  {
   "cell_type": "markdown",
   "id": "36360228",
   "metadata": {},
   "source": [
    "__format__:\n",
    "    The __format__ method is a special method in Python that allows you to define the behavior of the format() function and the built-in string formatting syntax ({} and str.format()) for objects of a class. It enables you to customize how an object is formatted when used with string formatting operations.\n",
    "\n",
    "class Person:\n",
    "    def __init__(self, name, age):\n",
    "        self.name = name\n",
    "        self.age = age\n",
    "\n",
    "    def __format__(self, format_spec):\n",
    "        if format_spec == \"s\":\n",
    "            return f\"Person: {self.name}\"\n",
    "        elif format_spec == \"a\":\n",
    "            return f\"Person: {self.name} ({self.age} years old)\"\n",
    "        else:\n",
    "            return str(self)\n",
    "\n",
    "person = Person(\"Alice\", 25)\n",
    "\n",
    "print(format(person, \"s\"))  # Output: Person: Alice\n",
    "print(format(person, \"a\"))  # Output: Person: Alice (25 years old)\n",
    "print(f\"{person}\")          # Output: <__main__.Person object at 0x...>\n",
    "\n"
   ]
  },
  {
   "cell_type": "code",
   "execution_count": null,
   "id": "e38b55e1",
   "metadata": {},
   "outputs": [],
   "source": [
    "__ge__(self, other): This method is used to define the behavior of the greater than or equal to (>=) comparison operator between objects.\n",
    "    \n",
    "    "
   ]
  },
  {
   "cell_type": "code",
   "execution_count": 15,
   "id": "15ac2d9a",
   "metadata": {},
   "outputs": [],
   "source": [
    "class Animal():\n",
    "    def __init__(self,name):\n",
    "        self.name = name\n",
    "    def sound(self):\n",
    "        pass\n",
    "#         print(\"Sounds of Animal\")\n",
    "\n",
    "\n",
    "class Cat(Animal):\n",
    "    def __init__(self,name):\n",
    "        super().__init__(name)\n",
    "        \n",
    "    def sound(self):\n",
    "        #super().sound()\n",
    "        print(f\"{self.name} sound as Meow\")\n",
    "\n",
    "class Dog(Cat):\n",
    "    def __init__(self,name,name1):       \n",
    "        super().__init__(name)\n",
    "        self.name1 = name1\n",
    "        \n",
    "    def sound(self):\n",
    "        super().sound()\n",
    "        print(f\"{self.name1} bark\")\n",
    "        \n",
    "            "
   ]
  },
  {
   "cell_type": "code",
   "execution_count": 16,
   "id": "43385cd1",
   "metadata": {},
   "outputs": [
    {
     "name": "stdout",
     "output_type": "stream",
     "text": [
      "Cat sound as Meow\n",
      "Dog bark\n"
     ]
    }
   ],
   "source": [
    "dog = Dog(\"Cat\",\"Dog\")\n",
    "dog.sound()"
   ]
  },
  {
   "cell_type": "code",
   "execution_count": null,
   "id": "c422660d",
   "metadata": {},
   "outputs": [],
   "source": [
    "##Polymorphism\n",
    "Method with same name but different definition"
   ]
  },
  {
   "cell_type": "code",
   "execution_count": 1,
   "id": "74d3b593",
   "metadata": {},
   "outputs": [],
   "source": [
    "class Student:\n",
    "  # protected attributes\n",
    "  def __init__(self,name,roll):\n",
    "    self._name=name\n",
    "    self._roll=roll\n",
    "  def _display(self):\n",
    "    print(f\" Name is {self._name} and roll number is {self._roll}\")"
   ]
  },
  {
   "cell_type": "code",
   "execution_count": 2,
   "id": "c0ff5e92",
   "metadata": {},
   "outputs": [],
   "source": [
    "class Genius(Student):\n",
    "  def __init__(self,name,roll):\n",
    "    self.__init__(name,roll)\n",
    "\n",
    "  def displaydetails(self):\n",
    "    print(f\"Name is :{self._name}\")\n",
    "    self._display()"
   ]
  },
  {
   "cell_type": "code",
   "execution_count": null,
   "id": "928567bd",
   "metadata": {},
   "outputs": [],
   "source": [
    "genius1=Genius(\"Krish\",123)\n",
    "genius1.displaydetails()"
   ]
  },
  {
   "cell_type": "code",
   "execution_count": null,
   "id": "a5b5bb56",
   "metadata": {},
   "outputs": [],
   "source": []
  }
 ],
 "metadata": {
  "kernelspec": {
   "display_name": "Python 3 (ipykernel)",
   "language": "python",
   "name": "python3"
  },
  "language_info": {
   "codemirror_mode": {
    "name": "ipython",
    "version": 3
   },
   "file_extension": ".py",
   "mimetype": "text/x-python",
   "name": "python",
   "nbconvert_exporter": "python",
   "pygments_lexer": "ipython3",
   "version": "3.10.9"
  }
 },
 "nbformat": 4,
 "nbformat_minor": 5
}
