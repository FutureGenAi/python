{
 "cells": [
  {
   "cell_type": "markdown",
   "id": "84ba889b",
   "metadata": {},
   "source": [
    "# Iterator"
   ]
  },
  {
   "cell_type": "markdown",
   "id": "c2e8209d",
   "metadata": {},
   "source": [
    "An iterator is an object that allows you to iterate over a sequence of elements.\n",
    "To create an iterator, you need to define a class that implements two methods: `_iter()` and `next()`. \n",
    "The `iter()` method returns the iterator object itself and is used to initialize the iteration. \n",
    "The `next_()` method returns the next element in the sequence. \n",
    "If there are no more elements, it should raise the `StopIteration` exception."
   ]
  },
  {
   "cell_type": "code",
   "execution_count": 2,
   "id": "50f09400",
   "metadata": {},
   "outputs": [
    {
     "name": "stdout",
     "output_type": "stream",
     "text": [
      "1\n",
      "2\n",
      "3\n",
      "4\n",
      "5\n"
     ]
    }
   ],
   "source": [
    "class NumberIterator:\n",
    "\n",
    "    def __init__(self, numbers):\n",
    "        self.numbers = numbers\n",
    "        self.index = 0\n",
    "\n",
    "    def __iter__(self):\n",
    "        return self\n",
    "\n",
    "    def __next__(self):\n",
    "        if self.index >= len(self.numbers):\n",
    "            raise StopIteration\n",
    "        number = self.numbers[self.index]\n",
    "        self.index += 1\n",
    "        return number\n",
    "\n",
    "numbers = [1, 2, 3, 4, 5]\n",
    "iterator = NumberIterator(numbers)\n",
    "\n",
    "for number in iterator:\n",
    "    print(number)"
   ]
  },
  {
   "cell_type": "markdown",
   "id": "a0cb86db",
   "metadata": {},
   "source": [
    "# Generator"
   ]
  },
  {
   "cell_type": "markdown",
   "id": "aaef9d7b",
   "metadata": {},
   "source": [
    "In Python, a generator is a special type of iterator that generates values on-the-fly. \n",
    "It allows you to iterate over a sequence of values without storing them all in memory at once, making it memory-efficient and suitable for handling large datasets or infinite sequences."
   ]
  },
  {
   "cell_type": "code",
   "execution_count": 1,
   "id": "a706717a",
   "metadata": {},
   "outputs": [
    {
     "name": "stdout",
     "output_type": "stream",
     "text": [
      "0\n",
      "1\n",
      "4\n",
      "9\n",
      "16\n"
     ]
    }
   ],
   "source": [
    "def square_generator(n):\n",
    "    for i in range(n):\n",
    "        yield i ** 2\n",
    "\n",
    "# Using the generator function\n",
    "my_generator = square_generator(5)\n",
    "for num in my_generator:\n",
    "    print(num)\n"
   ]
  },
  {
   "cell_type": "code",
   "execution_count": 2,
   "id": "d1e1a0bb",
   "metadata": {},
   "outputs": [
    {
     "name": "stdout",
     "output_type": "stream",
     "text": [
      "0\n",
      "2\n",
      "4\n",
      "6\n",
      "8\n"
     ]
    }
   ],
   "source": [
    "even_generator = (num for num in range(10) if num % 2 == 0)\n",
    "\n",
    "# Using the generator expression\n",
    "for num in even_generator:\n",
    "    print(num)\n"
   ]
  },
  {
   "cell_type": "markdown",
   "id": "1ee01acd",
   "metadata": {},
   "source": [
    "# Map()\n",
    "\n",
    "In Python, the `map()` function is used to apply a given function to each item of an iterable (such as a list, tuple, or string) and returns an iterator that yields the results. It provides a concise way to transform or modify elements in a collection without using explicit loops.\n",
    "map(function, iterable)"
   ]
  },
  {
   "cell_type": "code",
   "execution_count": 4,
   "id": "fd4729f4",
   "metadata": {},
   "outputs": [
    {
     "name": "stdout",
     "output_type": "stream",
     "text": [
      "1\n",
      "4\n",
      "9\n",
      "16\n",
      "25\n"
     ]
    }
   ],
   "source": [
    "numbers = [1, 2, 3, 4, 5]\n",
    "square_rrot = map(lambda x: x**2, numbers)\n",
    "\n",
    "# Printing the squared values\n",
    "for num in square_root:\n",
    "    print(num)"
   ]
  },
  {
   "cell_type": "code",
   "execution_count": 5,
   "id": "e1aec835",
   "metadata": {},
   "outputs": [
    {
     "name": "stdout",
     "output_type": "stream",
     "text": [
      "AIYSHU\n",
      "ABHI\n",
      "SURYA\n"
     ]
    }
   ],
   "source": [
    "name=['aiyshu','abhi','surya']\n",
    "string = map(str.upper,name)\n",
    "for i in string:\n",
    "    print(i)"
   ]
  },
  {
   "cell_type": "code",
   "execution_count": 6,
   "id": "11ee3bb5",
   "metadata": {},
   "outputs": [
    {
     "name": "stdout",
     "output_type": "stream",
     "text": [
      "11\n",
      "22\n",
      "33\n"
     ]
    }
   ],
   "source": [
    "numbers1 = [1, 2, 3]\n",
    "numbers2 = [10, 20, 30]\n",
    "sums = map(lambda x, y: x + y, numbers1, numbers2)\n",
    "\n",
    "# Printing the sums of corresponding elements\n",
    "for num in sums:\n",
    "    print(num)"
   ]
  },
  {
   "cell_type": "markdown",
   "id": "88fad902",
   "metadata": {},
   "source": [
    "# Lambda\n",
    "\n",
    "A lambda function (also known as an anonymous function) is a way to define a small, one-line function without using the `def` keyword. Lambda functions are often used when you need a simple function that will be used only once or when you want to pass a function as an argument to another function.\n",
    "\n",
    "The syntax for a lambda function is as follows:\n",
    "\n",
    "lambda arguments: expression"
   ]
  },
  {
   "cell_type": "code",
   "execution_count": 7,
   "id": "5d166e31",
   "metadata": {},
   "outputs": [
    {
     "name": "stdout",
     "output_type": "stream",
     "text": [
      "20\n"
     ]
    }
   ],
   "source": [
    "double = lambda x: x*2\n",
    "print(double(10))"
   ]
  },
  {
   "cell_type": "code",
   "execution_count": 8,
   "id": "505709bd",
   "metadata": {},
   "outputs": [
    {
     "name": "stdout",
     "output_type": "stream",
     "text": [
      "30\n"
     ]
    }
   ],
   "source": [
    "add = lambda x,y: x+y\n",
    "print(add(10,20))"
   ]
  },
  {
   "cell_type": "code",
   "execution_count": 9,
   "id": "0ea68f80",
   "metadata": {},
   "outputs": [
    {
     "name": "stdout",
     "output_type": "stream",
     "text": [
      "[('Bob', 19), ('Alice', 20), ('Charlie', 22)]\n"
     ]
    }
   ],
   "source": [
    "students = [('Alice', 20), ('Bob', 19), ('Charlie', 22)]\n",
    "students.sort(key=lambda x: x[1])\n",
    "\n",
    "print(students)  "
   ]
  },
  {
   "cell_type": "code",
   "execution_count": 10,
   "id": "e6615317",
   "metadata": {},
   "outputs": [
    {
     "name": "stdout",
     "output_type": "stream",
     "text": [
      "[2, 4, 6, 8, 10]\n"
     ]
    }
   ],
   "source": [
    "#filter with lambda\n",
    "numbers = [1, 2, 3, 4, 5, 6, 7, 8, 9, 10]\n",
    "even_numbers = list(filter(lambda x: x % 2 == 0, numbers))\n",
    "print(even_numbers)  "
   ]
  },
  {
   "cell_type": "markdown",
   "id": "3be033cd",
   "metadata": {},
   "source": [
    "# Filter()\n",
    "\n",
    "In Python, the `filter()` function is used to create an iterator that filters elements from an iterable based on a given function. It takes two arguments: the filtering function and the iterable.\n",
    "\n",
    "The general syntax of the `filter()` function is as follows:\n",
    "filter(function, iterable)"
   ]
  },
  {
   "cell_type": "code",
   "execution_count": 11,
   "id": "ac33d630",
   "metadata": {},
   "outputs": [
    {
     "name": "stdout",
     "output_type": "stream",
     "text": [
      "2\n",
      "4\n",
      "6\n"
     ]
    }
   ],
   "source": [
    "#filter even numbers\n",
    "numbers = [1, 2, 3, 4, 5, 6]\n",
    "even_numbers = filter(lambda x: x % 2 == 0, numbers)\n",
    "\n",
    "# Printing the even numbers\n",
    "for num in even_numbers:\n",
    "    print(num)"
   ]
  },
  {
   "cell_type": "code",
   "execution_count": 15,
   "id": "b4087f68",
   "metadata": {},
   "outputs": [
    {
     "name": "stdout",
     "output_type": "stream",
     "text": [
      "Alice\n",
      "Charlie\n",
      "Dave\n",
      "['Charlie']\n"
     ]
    }
   ],
   "source": [
    "#Filtering strings longer than 3 characters from a list using `filter()`:\n",
    "\n",
    "names = ['Alice', 'Bob', 'Charlie', 'Dave']\n",
    "long_names = filter(lambda name: len(name) > 3, names)\n",
    "\n",
    "# Printing the long names\n",
    "for name in long_names:\n",
    "    print(name)\n",
    "    \n",
    "#Filter name starting with\n",
    "\n",
    "filtered_names = list(filter(lambda x: x.startswith(\"C\"), names))\n",
    "print(filtered_names)    "
   ]
  },
  {
   "cell_type": "code",
   "execution_count": 13,
   "id": "e4670b03",
   "metadata": {},
   "outputs": [
    {
     "name": "stdout",
     "output_type": "stream",
     "text": [
      "Hello\n",
      "World\n"
     ]
    }
   ],
   "source": [
    "# Filtering non-empty strings from a list using `filter()`:\n",
    "\n",
    "strings = ['', 'Hello', '', 'World', '']\n",
    "non_empty_strings = filter(lambda s: len(s) > 0, strings)\n",
    "\n",
    "# Printing the non-empty strings\n",
    "for string in non_empty_strings:\n",
    "    print(string)"
   ]
  },
  {
   "cell_type": "markdown",
   "id": "fbfcffad",
   "metadata": {},
   "source": [
    "# Reduce\n",
    "\n",
    "In Python, the `reduce()` function is used to apply a function to an iterable and reduce it to a single value. It is part of the `functools` module and needs to be imported before use. The function passed to `reduce()` should accept two arguments and return a single value.\n",
    "\n",
    "The general syntax of the `reduce()` function is as follows:\n",
    "\n",
    "reduce(function, iterable[, initializer])"
   ]
  },
  {
   "cell_type": "code",
   "execution_count": 16,
   "id": "35486fb1",
   "metadata": {},
   "outputs": [
    {
     "name": "stdout",
     "output_type": "stream",
     "text": [
      "15\n"
     ]
    }
   ],
   "source": [
    "from functools import reduce\n",
    "\n",
    "numbers = [1, 2, 3, 4, 5]\n",
    "sum = reduce(lambda x, y: x + y, numbers)\n",
    "\n",
    "print(sum)"
   ]
  },
  {
   "cell_type": "code",
   "execution_count": 17,
   "id": "948b9618",
   "metadata": {},
   "outputs": [
    {
     "name": "stdout",
     "output_type": "stream",
     "text": [
      "9\n"
     ]
    }
   ],
   "source": [
    "# Example 1: Finding the maximum value in a list using `reduce()` with an initializer:\n",
    "\n",
    "from functools import reduce\n",
    "\n",
    "numbers = [5, 9, 2, 7, 3]\n",
    "max_value = reduce(lambda x, y: x if x > y else y, numbers, float('-inf'))\n",
    "\n",
    "print(max_value)"
   ]
  },
  {
   "cell_type": "code",
   "execution_count": 18,
   "id": "f103dd4d",
   "metadata": {},
   "outputs": [
    {
     "name": "stdout",
     "output_type": "stream",
     "text": [
      "Hello World!\n"
     ]
    }
   ],
   "source": [
    "#  Concatenating strings in a list using `reduce()` with an initializer:\n",
    "\n",
    "from functools import reduce\n",
    "\n",
    "strings = ['Hello', ' ', 'World', '!']\n",
    "concatenated = reduce(lambda x, y: x + y, strings, '')\n",
    "\n",
    "print(concatenated)"
   ]
  },
  {
   "cell_type": "code",
   "execution_count": 19,
   "id": "50945abf",
   "metadata": {},
   "outputs": [
    {
     "name": "stdout",
     "output_type": "stream",
     "text": [
      "120\n"
     ]
    }
   ],
   "source": [
    "#Computing the product of numbers in a list using `reduce()` with an initializer:\n",
    "\n",
    "from functools import reduce\n",
    "\n",
    "numbers = [2, 3, 4, 5]\n",
    "product = reduce(lambda x, y: x * y, numbers, 1)\n",
    "\n",
    "print(product)"
   ]
  },
  {
   "cell_type": "code",
   "execution_count": 20,
   "id": "70d6586e",
   "metadata": {},
   "outputs": [
    {
     "name": "stdout",
     "output_type": "stream",
     "text": [
      "10\n"
     ]
    }
   ],
   "source": [
    "#finding max value\n",
    "from functools import reduce\n",
    "\n",
    "numbers = [8, 2, 6, 10, 4]\n",
    "max_result = reduce(lambda x, y: x if x > y else y, numbers)\n",
    "print(max_result)"
   ]
  },
  {
   "cell_type": "code",
   "execution_count": null,
   "id": "7f585d76",
   "metadata": {},
   "outputs": [],
   "source": []
  }
 ],
 "metadata": {
  "kernelspec": {
   "display_name": "Python 3 (ipykernel)",
   "language": "python",
   "name": "python3"
  },
  "language_info": {
   "codemirror_mode": {
    "name": "ipython",
    "version": 3
   },
   "file_extension": ".py",
   "mimetype": "text/x-python",
   "name": "python",
   "nbconvert_exporter": "python",
   "pygments_lexer": "ipython3",
   "version": "3.10.9"
  }
 },
 "nbformat": 4,
 "nbformat_minor": 5
}
