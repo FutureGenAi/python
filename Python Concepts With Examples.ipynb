{
 "cells": [
  {
   "cell_type": "markdown",
   "id": "6f27b190",
   "metadata": {},
   "source": [
    "# String and its in-built function"
   ]
  },
  {
   "cell_type": "code",
   "execution_count": 28,
   "id": "55495ae1",
   "metadata": {},
   "outputs": [
    {
     "name": "stdout",
     "output_type": "stream",
     "text": [
      "13\n"
     ]
    }
   ],
   "source": [
    "# 1. *len()*: Returns the length of a string.\n",
    "\n",
    "my_string = \"Hello, World!\"\n",
    "length = len(my_string) \n",
    "print(length)"
   ]
  },
  {
   "cell_type": "code",
   "execution_count": 29,
   "id": "9d741b75",
   "metadata": {},
   "outputs": [
    {
     "name": "stdout",
     "output_type": "stream",
     "text": [
      "Capitalized string :  Hello, world!\n",
      "Uppercased string :  HELLO, WORLD!\n",
      "Lowercased string :  hello, world!\n",
      "Swapped string :  hELLO, wORLD!\n"
     ]
    }
   ],
   "source": [
    "# 2. *capitalize()*: Returns a copy of the string with the first character capitalized and the rest lowercased.\n",
    "my_string = \"hello, world!\"\n",
    "capitalized_string = my_string.capitalize()\n",
    "print(\"Capitalized string : \",capitalized_string)\n",
    "\n",
    "\n",
    "# 3. *upper()*: Returns a copy of the string with all characters converted to uppercase.\n",
    "my_string = \"hello, world!\"\n",
    "uppercased_string = my_string.upper() \n",
    "print(\"Uppercased string : \",uppercased_string)\n",
    "\n",
    "\n",
    "#4. *lower()*: Returns a copy of the string with all characters converted to lowercase.\n",
    "my_string = \"HELLO, WORLD!\"\n",
    "lowercased_string = my_string.lower() \n",
    "print(\"Lowercased string : \",lowercased_string)\n",
    "\n",
    "\n",
    "# 5. *swapcase()*: Returns a copy of the string with uppercase characters converted to lowercase and vice versa.\n",
    "my_string = \"Hello, World!\"\n",
    "swapped_string = my_string.swapcase() \n",
    "print(\"Swapped string : \",swapped_string)"
   ]
  },
  {
   "cell_type": "code",
   "execution_count": 31,
   "id": "4901f97f",
   "metadata": {},
   "outputs": [
    {
     "name": "stdout",
     "output_type": "stream",
     "text": [
      "Stripped String :  Hello, World!\n",
      "Split list :  ['Hello', ' World!']\n",
      "Joning String :  Hello-World\n",
      "True\n",
      "False\n"
     ]
    }
   ],
   "source": [
    "#6. *strip()*: Returns a copy of the string with leading and trailing whitespace removed.\n",
    "my_string = \"   Hello, World!   \"\n",
    "stripped_string = my_string.strip()  \n",
    "print(\"Stripped String : \",stripped_string)\n",
    "\n",
    "\n",
    "# 7. *split()*: Splits the string into a list of substrings based on a specified delimiter. By default, the delimiter is whitespace.\n",
    "my_string = \"Hello, World!\"\n",
    "split_list = my_string.split(\",\")  \n",
    "print(\"Split list : \",split_list)\n",
    "\n",
    "\n",
    "# 8. *join()*: Joins the elements of an iterable (e.g., list) into a single string, using the specified string as the separator.\n",
    "my_list = [\"Hello\", \"World\"]\n",
    "joined_string = \"-\".join(my_list) \n",
    "print(\"Joning String : \",joined_string)\n",
    "\n",
    "\n",
    "# 9. *startswith()* and *endswith()*: Check if a string starts or ends with a specified substring. They return a boolean value.\n",
    "my_string = \"Hello, World#\"\n",
    "starts_with_hello = my_string.startswith(\"Hello\")  \n",
    "ends_with_exclamation = my_string.endswith(\"!\")  \n",
    "print(starts_with_hello)\n",
    "print(ends_with_exclamation)"
   ]
  },
  {
   "cell_type": "code",
   "execution_count": 34,
   "id": "69919085",
   "metadata": {},
   "outputs": [
    {
     "name": "stdout",
     "output_type": "stream",
     "text": [
      "String Replace :  Hi, World!\n",
      "Find string :  7\n",
      "Index of string :  7\n",
      "Count of char :  3\n"
     ]
    }
   ],
   "source": [
    "#10. *replace()*: Returns a copy of the string with all occurrences of a specified substring replaced with another substring.\n",
    "my_string = \"Hello, World!\"\n",
    "new_string = my_string.replace(\"Hello\", \"Hi\")  # Returns \"Hi, World!\"\n",
    "print(\"String Replace : \",new_string)\n",
    "\n",
    "\n",
    "#11. *find()* and *index()*: Find the first occurrence of a specified substring within the string. `find()` returns the index of the substring, or -1 if it is not found. `index()` raises a ValueError if the substring is not found.\n",
    "my_string = \"Hello, World!\"\n",
    "index1 = my_string.find(\"World\") \n",
    "index2 = my_string.index(\"World\")  \n",
    "print(\"Find string : \",index1)\n",
    "print(\"Index of string : \",index1)\n",
    "\n",
    "\n",
    "#12. *count()*: Returns the number of occurrences of a specified substring within the string.\n",
    "my_string = \"Hello, World!\"\n",
    "occurrences = my_string.count(\"l\")  \n",
    "print(\"Count of char : \",occurrences)\n",
    "\n",
    "\n"
   ]
  },
  {
   "cell_type": "code",
   "execution_count": 39,
   "id": "39148299",
   "metadata": {},
   "outputs": [
    {
     "name": "stdout",
     "output_type": "stream",
     "text": [
      "False\n",
      "False\n",
      "True\n",
      "False\n",
      "False\n",
      "--------\n",
      "True\n",
      "False\n"
     ]
    }
   ],
   "source": [
    "# 13. *isalpha(), **isdigit(), **isalnum(), **isspace()*: These methods check if the string consists of alphabetic characters, digits, alphanumeric characters, or whitespace characters, respectively. They return a boolean value.\n",
    "\n",
    "my_string = \"Hello123\"\n",
    "is_alpha = my_string.isalpha()  # Returns False\n",
    "is_digit = my_string.isdigit()  # Returns False\n",
    "is_alnum = my_string.isalnum()  # Returns True\n",
    "is_space = my_string.isspace()  # Returns False\n",
    "is_num=  my_string.isnumeric()\n",
    "print(is_alpha)\n",
    "print(is_digit)\n",
    "print(is_alnum)\n",
    "print(is_space)\n",
    "print(is_num)\n",
    "print(\"--------\")\n",
    "\n",
    "\n",
    "#14. *isupper()* and *islower()*: Check if the string consists of uppercase or lowercase characters, respectively. They return a boolean value.\n",
    "my_string = \"HELLO\"\n",
    "is_upper = my_string.isupper()  # Returns True\n",
    "is_lower = my_string.islower()  # Returns False\n",
    "print(is_upper)\n",
    "print(is_lower)"
   ]
  },
  {
   "cell_type": "code",
   "execution_count": 40,
   "id": "050c11bc",
   "metadata": {},
   "outputs": [
    {
     "name": "stdout",
     "output_type": "stream",
     "text": [
      "Title case :  Hello, World!\n",
      "zfill :  00042\n",
      "Given value is Valid string :  True\n"
     ]
    }
   ],
   "source": [
    "#15. *title()*: Returns a copy of the string with the first character of each word capitalized and the rest lowercased.\n",
    "\n",
    "my_string = \"hello, world!\"\n",
    "title_case = my_string.title()\n",
    "print(\"Title case : \",title_case)\n",
    "\n",
    "\n",
    "#16. *zfill()*: Returns a copy of the string padded with zeros on the left to achieve a specified width.\n",
    "my_string = \"42\"\n",
    "padded_string = my_string.zfill(5)  # Returns \"00042\"\n",
    "print(\"zfill : \",padded_string )\n",
    "\n",
    "\n",
    "#17. *isidentifier()*: Checks if the string is a valid Python identifier (variable name). It returns a boolean value.\n",
    "my_string = \"my_variable\"\n",
    "is_valid_identifier = my_string.isidentifier()  # Returns True\n",
    "print(\"Given value is Valid string : \",is_valid_identifier)"
   ]
  },
  {
   "cell_type": "markdown",
   "id": "69ed7ab7",
   "metadata": {},
   "source": [
    "# List\n",
    "\n",
    "It is an ordered and mutable sequence of elements enclosed in square brackets ([])."
   ]
  },
  {
   "cell_type": "code",
   "execution_count": 41,
   "id": "6417aea2",
   "metadata": {},
   "outputs": [
    {
     "name": "stdout",
     "output_type": "stream",
     "text": [
      "3\n",
      "['apple', 'banana', 'cherry']\n",
      "['apple', 'banana', 'cherry', 'orange']\n",
      "['apple', 'orange', 'banana', 'cherry']\n",
      "['apple', 'cherry']\n",
      "banana\n",
      "['apple', 'cherry']\n",
      "[]\n",
      "1\n",
      "2\n",
      "['apple', 'banana', 'cherry']\n",
      "['cherry', 'banana', 'apple']\n",
      "['apple', 'banana', 'cherry']\n",
      "banana\n",
      "['banana', 'cherry']\n",
      "[2, 4, 6, 8]\n"
     ]
    }
   ],
   "source": [
    "# 1. `len(list)`: Returns the number of elements in the list.\n",
    "fruits = ['apple', 'banana', 'cherry']\n",
    "print(len(fruits))  # Output: 3\n",
    "\n",
    "\n",
    "# 2. `list.append(item)`: Adds an item to the end of the list.\n",
    "fruits = ['apple', 'banana']\n",
    "fruits.append('cherry')\n",
    "print(fruits)  # Output: ['apple', 'banana', 'cherry']\n",
    "\n",
    "\n",
    "# 3. `list.extend(iterable)`: Appends all elements from an iterable (such as another list) to the end of the list.\n",
    "fruits = ['apple', 'banana']\n",
    "more_fruits = ['cherry', 'orange']\n",
    "fruits.extend(more_fruits)\n",
    "print(fruits)  # Output: ['apple', 'banana', 'cherry', 'orange']\n",
    "\n",
    "\n",
    "# 4. `list.insert(index, item)`: Inserts an item at a specified position in the list.\n",
    "fruits = ['apple', 'banana', 'cherry']\n",
    "fruits.insert(1, 'orange')\n",
    "print(fruits)  # Output: ['apple', 'orange', 'banana', 'cherry']\n",
    "\n",
    "\n",
    "# 5. `list.remove(item)`: Removes the first occurrence of the specified item from the list.\n",
    "fruits = ['apple', 'banana', 'cherry']\n",
    "fruits.remove('banana')\n",
    "print(fruits)  # Output: ['apple', 'cherry']\n",
    "\n",
    "\n",
    "# 6. `list.pop(index)`: Removes and returns the item at the specified index. If no index is provided, it removes and returns the last item.\n",
    "fruits = ['apple', 'banana', 'cherry']\n",
    "removed_fruit = fruits.pop(1)\n",
    "print(removed_fruit)  # Output: 'banana'\n",
    "print(fruits)  # Output: ['apple', 'cherry']\n",
    "\n",
    "\n",
    "# 7. `list.clear()`: Removes all items from the list.\n",
    "fruits = ['apple', 'banana', 'cherry']\n",
    "fruits.clear()\n",
    "print(fruits)  # Output: []\n",
    "\n",
    "\n",
    "# 8. `list.index(item)`: Returns the index of the first occurrence of the specified item in the list.\n",
    "fruits = ['apple', 'banana', 'cherry']\n",
    "index = fruits.index('banana')\n",
    "print(index)  # Output: 1\n",
    "\n",
    "\n",
    "# 9. `list.count(item)`: Returns the number of occurrences of the specified item in the list.\n",
    "fruits = ['apple', 'banana', 'cherry', 'banana']\n",
    "count = fruits.count('banana')\n",
    "print(count)  # Output: 2\n",
    "\n",
    "\n",
    "# 10. `list.sort()`: Sorts the items in the list in ascending order.\n",
    "fruits = ['apple', 'banana', 'cherry']\n",
    "fruits.sort()\n",
    "print(fruits)  # Output: ['apple', 'banana', 'cherry']\n",
    "\n",
    "\n",
    "# 11. `list.reverse()`: Reverses the order of the items in the list.\n",
    "fruits = ['apple', 'banana', 'cherry']\n",
    "fruits.reverse()\n",
    "print(fruits)  # Output: ['cherry', 'banana', 'apple']\n",
    "\n",
    "\n",
    "# 12. `list.copy()`: Returns a shallow copy of the list.\n",
    "fruits = ['apple', 'banana', 'cherry']\n",
    "fruits_copy = fruits.copy()\n",
    "print(fruits_copy)  # Output: ['apple', 'banana', 'cherry']\n",
    "\n",
    "\n",
    "# 13. `list[i]`: Accesses the item at index `i`.\n",
    "fruits = ['apple', 'banana', 'cherry']\n",
    "print(fruits[1])  # Output: 'banana'\n",
    "\n",
    "\n",
    "# 14. `list[start:end]`: Returns a new list containing the specified items from `start` to `end-1`.\n",
    "fruits = ['apple', 'banana', 'cherry', 'orange']\n",
    "selected_fruits = fruits[1:3]\n",
    "print(selected_fruits)  # Output: ['banana', 'cherry']\n",
    "\n",
    "\n",
    "# 15. `list[start:end:step]`: Returns a new list with items from `start` to `end-1`, skipping `step` items.\n",
    "numbers = [1, 2, 3, 4, 5, 6, 7, 8, 9, 10]\n",
    "selected_numbers = numbers[1:9:2]\n",
    "print(selected_numbers)  # Output: [\n"
   ]
  },
  {
   "cell_type": "markdown",
   "id": "7be0a409",
   "metadata": {},
   "source": [
    "# Tuple\n",
    "\n",
    "Tuples are immutable, meaning their elements cannot be changed once they are assigned. Tuples are defined by enclosing comma-separated values within parentheses ()."
   ]
  },
  {
   "cell_type": "code",
   "execution_count": 42,
   "id": "06a8c297",
   "metadata": {},
   "outputs": [
    {
     "name": "stdout",
     "output_type": "stream",
     "text": [
      "5\n",
      "2\n",
      "1\n"
     ]
    }
   ],
   "source": [
    "# 1.len(tuple): Returns the number of elements in the tuple.\n",
    "my_tuple = (1, 2, 3, 4, 5)\n",
    "print(len(my_tuple))  # Output: 5\n",
    "\n",
    "# 2.tuple.count(value): Returns the number of occurrences of a value in the tuple.\n",
    "fruits = ('apple', 'banana', 'cherry', 'banana')\n",
    "count = fruits.count('banana')\n",
    "print(count)  # Output: 2\n",
    "\n",
    "# 3.tuple.index(value): Returns the index of the first occurrence of a value in the tuple.\n",
    "fruits = ('apple', 'banana', 'cherry')\n",
    "index = fruits.index('banana')\n",
    "print(index)  # Output: 1\n"
   ]
  },
  {
   "cell_type": "markdown",
   "id": "1aeb91cf",
   "metadata": {},
   "source": [
    "# Set\n",
    "\n",
    "Sets are defined by enclosing comma-separated values within curly braces {} or by using the set() function.\n",
    "Sets are mutable and heterogeneous."
   ]
  },
  {
   "cell_type": "code",
   "execution_count": 44,
   "id": "f8114555",
   "metadata": {},
   "outputs": [
    {
     "name": "stdout",
     "output_type": "stream",
     "text": [
      "{1, 2, 3, 4, 5}\n",
      "{3, 4, 5, 6, 7}\n",
      "5\n",
      "{'cherry', 'banana', 'apple'}\n",
      "{'cherry', 'apple'}\n",
      "{'cherry', 'apple'}\n",
      "cherry\n",
      "{'banana', 'apple'}\n",
      "set()\n",
      "True\n",
      "False\n",
      "{1, 2, 3, 4, 5}\n",
      "{3}\n",
      "{1, 2}\n",
      "{1, 2, 4, 5}\n",
      "True\n",
      "False\n"
     ]
    }
   ],
   "source": [
    "# 1.set(iterable): Creates a new set from an iterable (such as a list or tuple) or an empty set if no iterable is provided.\n",
    "my_set = {1, 2, 3, 4, 5}\n",
    "print(my_set)  # Output: {1, 2, 3, 4, 5}\n",
    "\n",
    "another_set = set([3, 4, 5, 6, 7])\n",
    "print(another_set)  # Output: {3, 4, 5, 6, 7}\n",
    "\n",
    "\n",
    "# 2.len(set): Returns the number of elements in the set.\n",
    "my_set = {1, 2, 3, 4, 5}\n",
    "print(len(my_set))  # Output: 5\n",
    "\n",
    "\n",
    "# 3.set.add(element): Adds an element to the set.\n",
    "fruits = {'apple', 'banana'}\n",
    "fruits.add('cherry')\n",
    "print(fruits)  # Output: {'apple', 'banana', 'cherry'}\n",
    "\n",
    "\n",
    "# 4.set.remove(element): Removes an element from the set. Raises a KeyError if the element is not found.\n",
    "fruits = {'apple', 'banana', 'cherry'}\n",
    "fruits.remove('banana')\n",
    "print(fruits)  # Output: {'apple', 'cherry'}\n",
    "\n",
    "\n",
    "# 5.set.discard(element): Removes an element from the set if it is present. Does not raise an error if the element is not found.\n",
    "fruits = {'apple', 'banana', 'cherry'}\n",
    "fruits.discard('banana')\n",
    "print(fruits)  # Output: {'apple', 'cherry'}\n",
    "\n",
    "\n",
    "# 6.set.pop(): Removes and returns an arbitrary element from the set. Raises a KeyError if the set is empty.\n",
    "fruits = {'apple', 'banana', 'cherry'}\n",
    "removed_fruit = fruits.pop()\n",
    "print(removed_fruit)  # Output: 'apple'\n",
    "print(fruits)  # Output: {'banana', 'cherry'}\n",
    "\n",
    "\n",
    "# 7.set.clear(): Removes all elements from the set.\n",
    "fruits = {'apple', 'banana', 'cherry'}\n",
    "fruits.clear()\n",
    "print(fruits)  # Output: set()\n",
    "\n",
    "\n",
    "# 8.element in set: Checks if an element is present in the set.\n",
    "fruits = {'apple', 'banana', 'cherry'}\n",
    "print('apple' in fruits)  # Output: True\n",
    "print('orange' in fruits)  # Output: False\n",
    "\n",
    "\n",
    "# 9.set.union(other_set): Returns a new set containing all unique elements from both sets.\n",
    "set1 = {1, 2, 3}\n",
    "set2 = {3, 4, 5}\n",
    "union_set = set1.union(set2)\n",
    "print(union_set)  # Output: {1, 2, 3, 4, 5}\n",
    "\n",
    "\n",
    "# 10.set.intersection(other_set): Returns a new set containing common elements between two sets.\n",
    "set1 = {1, 2, 3}\n",
    "set2 = {3, 4, 5}\n",
    "intersection_set = set1.intersection(set2)\n",
    "print(intersection_set)  # Output: {3}\n",
    "\n",
    "\n",
    "# 11.set.difference(other_set): Returns a new set with elements that are in the first set but not in the second set.\n",
    "set1 = {1, 2, 3}\n",
    "set2 = {3, 4, 5}\n",
    "difference_set = set1.difference(set2)\n",
    "print(difference_set)  # Output: {1, 2}\n",
    "\n",
    "\n",
    "# 12.set.symmetric_difference(other_set): Returns a new set with elements that are in either of the sets but not in both.\n",
    "set1 = {1, 2, 3}\n",
    "set2 = {3, 4, 5}\n",
    "symmetric_difference_set = set1.symmetric_difference(set2)\n",
    "print(symmetric_difference_set)  # Output: {1, 2, 4, 5}\n",
    "\n",
    "\n",
    "# 13.set.issubset(other_set): Checks if all elements of a set are present in another set.\n",
    "set1 = {1, 2}\n",
    "set2 = {1, 2, 3, 4, 5}\n",
    "print(set1.issubset(set2))  # Output: True\n",
    "\n",
    "\n",
    "# 14.set.issuperset(other_set): Checks if a set contains all elements of another set.\n",
    "set1 = {1, 2, 3, 4, 5}\n",
    "set2 = {6,7}\n",
    "print(set1.issuperset(set2))  # Output: False\n"
   ]
  },
  {
   "cell_type": "markdown",
   "id": "185fd036",
   "metadata": {},
   "source": [
    "# Dictionary\n",
    "\n",
    "A dictionary is a built-in data structure that represents a collection of key-value pairs. It is also known as an associative array or hash map. Dictionaries are defined by enclosing comma-separated key-value pairs within curly braces {}."
   ]
  },
  {
   "cell_type": "code",
   "execution_count": 45,
   "id": "3c1a0746",
   "metadata": {},
   "outputs": [
    {
     "name": "stdout",
     "output_type": "stream",
     "text": [
      "3\n",
      "10\n",
      "0\n",
      "dict_keys(['apple', 'banana', 'cherry'])\n",
      "dict_values([5, 10, 3])\n",
      "dict_items([('apple', 5), ('banana', 10), ('cherry', 3)])\n",
      "10\n",
      "{'apple': 5, 'cherry': 3}\n",
      "('cherry', 3)\n",
      "{'apple': 5, 'banana': 10}\n",
      "{}\n",
      "True\n",
      "False\n"
     ]
    }
   ],
   "source": [
    "# 1.len(dictionary): Returns the number of key-value pairs in the dictionary.\n",
    "my_dict = {'apple': 5, 'banana': 10, 'cherry': 3}\n",
    "print(len(my_dict))  # Output: 3\n",
    "\n",
    "\n",
    "# 2.dictionary[key]: Accesses the value associated with the specified key.\n",
    "fruits = {'apple': 5, 'banana': 10, 'cherry': 3}\n",
    "print(fruits['banana'])  # Output: 10\n",
    "\n",
    "\n",
    "# 3.dictionary.get(key, default): Returns the value associated with the specified key. If the key is not found, it returns the default value.\n",
    "fruits = {'apple': 5, 'banana': 10, 'cherry': 3}\n",
    "print(fruits.get('orange', 0))  # Output: 0\n",
    "\n",
    "\n",
    "# 4.dictionary.keys(): Returns a view object that contains all the keys in the dictionary.\n",
    "fruits = {'apple': 5, 'banana': 10, 'cherry': 3}\n",
    "keys = fruits.keys()\n",
    "print(keys)  # Output: dict_keys(['apple', 'banana', 'cherry'])\n",
    "\n",
    "\n",
    "# 5.dictionary.values(): Returns a view object that contains all the values in the dictionary.\n",
    "fruits = {'apple': 5, 'banana': 10, 'cherry': 3}\n",
    "values = fruits.values()\n",
    "print(values)  # Output: dict_values([5, 10, 3])\n",
    "\n",
    "\n",
    "# 6.dictionary.items(): Returns a view object that contains all the key-value pairs in the dictionary.\n",
    "fruits = {'apple': 5, 'banana': 10, 'cherry': 3}\n",
    "items = fruits.items()\n",
    "print(items)  # Output: dict_items([('apple', 5), ('banana', 10), ('cherry', 3)])\n",
    "\n",
    "\n",
    "# 7.dictionary.pop(key, default): Removes and returns the value associated with the specified key. If the key is not found, it returns the default value.\n",
    "fruits = {'apple': 5, 'banana': 10, 'cherry': 3}\n",
    "removed_value = fruits.pop('banana', 0)\n",
    "print(removed_value)  # Output: 10\n",
    "print(fruits)  # Output: {'apple': 5, 'cherry': 3}\n",
    "\n",
    "\n",
    "# 8.dictionary.popitem(): Removes and returns an arbitrary key-value pair from the dictionary.\n",
    "fruits = {'apple': 5, 'banana': 10, 'cherry': 3}\n",
    "removed_item = fruits.popitem()\n",
    "print(removed_item)  # Output: ('cherry', 3)\n",
    "print(fruits)  # Output: {'apple': 5, 'banana': 10}\n",
    "\n",
    "\n",
    "# 9.dictionary.clear(): Removes all key-value pairs from the dictionary.\n",
    "fruits = {'apple': 5, 'banana': 10, 'cherry': 3}\n",
    "fruits.clear()\n",
    "print(fruits)  # Output: {}\n",
    "\n",
    "\n",
    "# 10.key in dictionary: Checks if a key is present in the dictionary.\n",
    "fruits = {'apple': 5, 'banana': 10, 'cherry': 3}\n",
    "print('apple' in fruits)  # Output: True\n",
    "print('orange' in fruits)  # Output: False"
   ]
  },
  {
   "cell_type": "markdown",
   "id": "c59ce1a5",
   "metadata": {},
   "source": [
    "# Conditional Statements(if, elif, else)\n",
    "\n",
    "Syntax:\n",
    "if condition1:\n",
    "    # code to execute if condition1 is True\n",
    "elif condition2:\n",
    "    # code to execute if condition1 is False and condition2 is True\n",
    "else:\n",
    "    # code to execute if both condition1 and condition2 are False\n"
   ]
  },
  {
   "cell_type": "code",
   "execution_count": 46,
   "id": "6320ec4c",
   "metadata": {},
   "outputs": [
    {
     "name": "stdout",
     "output_type": "stream",
     "text": [
      "x is equal to 10\n"
     ]
    }
   ],
   "source": [
    "# Example 1\n",
    "x = 10\n",
    "\n",
    "if x > 10:\n",
    "    print(\"x is greater than 10\")\n",
    "elif x < 10:\n",
    "    print(\"x is less than 10\")\n",
    "else:\n",
    "    print(\"x is equal to 10\")\n"
   ]
  },
  {
   "cell_type": "code",
   "execution_count": 47,
   "id": "9031c937",
   "metadata": {},
   "outputs": [
    {
     "name": "stdout",
     "output_type": "stream",
     "text": [
      "Your grade is: B\n"
     ]
    }
   ],
   "source": [
    "# Example 2\n",
    "score = 85\n",
    "\n",
    "if score >= 90:\n",
    "    grade = \"A\"\n",
    "elif score >= 80:\n",
    "    grade = \"B\"\n",
    "elif score >= 70:\n",
    "    grade = \"C\"\n",
    "elif score >= 60:\n",
    "    grade = \"D\"\n",
    "else:\n",
    "    grade = \"F\"\n",
    "\n",
    "print(\"Your grade is:\", grade)\n"
   ]
  },
  {
   "cell_type": "code",
   "execution_count": 48,
   "id": "20c581e3",
   "metadata": {},
   "outputs": [
    {
     "name": "stdout",
     "output_type": "stream",
     "text": [
      "Leap year\n"
     ]
    }
   ],
   "source": [
    "# Example 3 program for leap year\n",
    "year = 2024\n",
    "\n",
    "if year % 400 == 0:\n",
    "    print(\"Leap year\")\n",
    "elif year % 100 == 0:\n",
    "    print(\"Not a leap year\")\n",
    "elif year % 4 == 0:\n",
    "    print(\"Leap year\")\n",
    "else:\n",
    "    print(\"Not a leap year\")\n"
   ]
  },
  {
   "cell_type": "markdown",
   "id": "d2162c07",
   "metadata": {},
   "source": [
    "# For Loop\n",
    "\n",
    "A for loop is used to iterate over a sequence or iterable object, such as a list, tuple, string, or range.\n",
    "Syntax:\n",
    "for item in sequence:\n",
    "    # code to be executed for each item"
   ]
  },
  {
   "cell_type": "code",
   "execution_count": 49,
   "id": "4fc61036",
   "metadata": {},
   "outputs": [
    {
     "name": "stdout",
     "output_type": "stream",
     "text": [
      "apple\n",
      "banana\n",
      "cherry\n"
     ]
    }
   ],
   "source": [
    "fruits = [\"apple\", \"banana\", \"cherry\"]\n",
    "\n",
    "for fruit in fruits:\n",
    "    print(fruit)\n"
   ]
  },
  {
   "cell_type": "code",
   "execution_count": 63,
   "id": "51d599d2",
   "metadata": {},
   "outputs": [
    {
     "name": "stdout",
     "output_type": "stream",
     "text": [
      "John scored 85\n",
      "Emma scored 92\n",
      "Michael scored 78\n"
     ]
    }
   ],
   "source": [
    "student_scores = {\"John\": 85, \"Emma\": 92, \"Michael\": 78}\n",
    "\n",
    "for name, score in student_scores.items():\n",
    "    print(name, \"scored\", score)\n"
   ]
  },
  {
   "cell_type": "code",
   "execution_count": 50,
   "id": "5df29aaf",
   "metadata": {},
   "outputs": [
    {
     "name": "stdout",
     "output_type": "stream",
     "text": [
      "1\n",
      "2\n",
      "3\n"
     ]
    }
   ],
   "source": [
    "l = [1,2,3,4,\"hello\" ,\"hi\" , 45.56]\n",
    "for i in l :\n",
    "    if i == 4 :\n",
    "        break\n",
    "    print(i)\n",
    "else :\n",
    "    print(\"this will execute only if for is going to complete itself\")"
   ]
  },
  {
   "cell_type": "code",
   "execution_count": 51,
   "id": "f6801357",
   "metadata": {},
   "outputs": [
    {
     "name": "stdout",
     "output_type": "stream",
     "text": [
      "name : john\n",
      "contact : ineuron.ai\n",
      "number : 978772312\n"
     ]
    }
   ],
   "source": [
    "d = {'name' :\"john\" , 'contact' : \"ineuron.ai\" , \"number\" : 978772312}\n",
    "for i in d :\n",
    "    print(i ,\":\" ,  d[i] )"
   ]
  },
  {
   "cell_type": "code",
   "execution_count": 52,
   "id": "218216f3",
   "metadata": {},
   "outputs": [
    {
     "name": "stdout",
     "output_type": "stream",
     "text": [
      "3\n",
      "3\n",
      "3\n",
      "kjshdf\n"
     ]
    }
   ],
   "source": [
    "t=(\"sudh\",\"kumar\",[1,3,5,7,4],(3,5,88,4),{3:3,3:\"kjshdf\",\"key1\":\"sudh\",\"key2\":\"kumar\"})\n",
    "for i in t :\n",
    "    if type(i) == list or type(i) == tuple :\n",
    "        for j in i :\n",
    "            if j == 3 :\n",
    "                print(j)\n",
    "    if type(i) == dict :\n",
    "        for k,v  in i.items():\n",
    "            if k == 3 or v == 3 :\n",
    "                print(k)\n",
    "                print(v)"
   ]
  },
  {
   "cell_type": "code",
   "execution_count": 60,
   "id": "be07d85a",
   "metadata": {},
   "outputs": [
    {
     "name": "stdout",
     "output_type": "stream",
     "text": [
      "numerical data :  [1, 2, 3, 4, 2, 3, 4, 5, 6, 3, 4, 5, 6, 7, 45, 4, 5, 23, 3, 6, 7, 8] \n",
      "\n",
      "Sum of all the numeric data :  156 \n",
      "\n",
      "Odd numbers:  [1, 3, 3, 5, 3, 5, 7, 45, 5, 23, 3, 7]\n"
     ]
    }
   ],
   "source": [
    "#q6 : Try to extract all the numerical data it may b a part of dict key and values\n",
    "l = [[1,2,3,4] , (2,3,4,5,6) , (3,4,5,6,7) , set([23,4,5,45,4,4,5,45,45,4,5]) , {'k1' :\"sudh\" , \"k2\" : \"ineuron\",\"k3\":\n",
    "            \"kumar\" , 3:6 , 7:8} , [\"ineuron\" , \"data science \"]]\n",
    "l1=[]\n",
    "for i in l:\n",
    "    if type(i)==list or type(i)==tuple or type(i)==set:\n",
    "        for j in i:\n",
    "            if type(j)==int:\n",
    "                l1.append(j)\n",
    "                \n",
    "                #print(j)\n",
    "    if type(i)==dict:\n",
    "        for k,v in i.items():\n",
    "            if type(k)==int: \n",
    "                l1.append(k)\n",
    "                #print(k)\n",
    "            if type(v)==int: \n",
    "                l1.append(v)\n",
    "                #print(v)\n",
    "print(\"numerical data : \",l1,\"\\n\")\n",
    "\n",
    "\n",
    "#q7 : Try to give summation of all the numeric data \n",
    "print(\"Sum of all the numeric data : \", sum(l1),\"\\n\")\n",
    "\n",
    "\n",
    "#q8 : Try to filter out all the odd values out all numeric data which is a part of a list \n",
    "l2=[]\n",
    "for i in l1:\n",
    "    if i % 2 == 1:\n",
    "        l2.append(i)\n",
    "print(\"Odd numbers: \",l2)"
   ]
  },
  {
   "cell_type": "markdown",
   "id": "6f666441",
   "metadata": {},
   "source": [
    "# Pattern printing using for loop"
   ]
  },
  {
   "cell_type": "code",
   "execution_count": 53,
   "id": "3c9c8417",
   "metadata": {},
   "outputs": [
    {
     "name": "stdout",
     "output_type": "stream",
     "text": [
      "ineruon \n",
      "\n",
      "ineruon ineruon \n",
      "\n",
      "ineruon ineruon ineruon \n",
      "\n",
      "ineruon ineruon ineruon ineruon \n",
      "\n"
     ]
    }
   ],
   "source": [
    "n=4\n",
    "for i in range(n):\n",
    "    for j in range(0,i+1):\n",
    "        print(\"ineruon\",end = ' ')\n",
    "    print(\"\\n\")"
   ]
  },
  {
   "cell_type": "code",
   "execution_count": 56,
   "id": "2ffd34c8",
   "metadata": {},
   "outputs": [
    {
     "name": "stdout",
     "output_type": "stream",
     "text": [
      "                ineruon \n",
      "        ineruon ineruon ineruon \n",
      "ineruon ineruon ineruon ineruon ineruon \n"
     ]
    }
   ],
   "source": [
    "n=3\n",
    "for i in range(n):\n",
    "    for j in range(i,n-1):\n",
    "        print(\" \"  *len(\"ineruon\"),end=\" \")\n",
    "    for j in range(i+1):\n",
    "        print(\"ineruon\",end=\" \")\n",
    "    for j in range(i): \n",
    "        print(\"ineruon\",end=\" \")\n",
    "    print()"
   ]
  },
  {
   "cell_type": "code",
   "execution_count": 62,
   "id": "977fc688",
   "metadata": {},
   "outputs": [
    {
     "name": "stdout",
     "output_type": "stream",
     "text": [
      "          * \n",
      "        * * * \n",
      "      * * * * * \n",
      "    * * * * * * * \n",
      "  * * * * * * * * * \n",
      "    * * * * * * * \n",
      "      * * * * * \n",
      "        * * * \n",
      "          * \n"
     ]
    }
   ],
   "source": [
    "n=5\n",
    "for i in range(n-1):\n",
    "    for j in range(i,n):\n",
    "        print(\" \",end=\" \")\n",
    "    for j in range(i):\n",
    "        print(\"*\",end=\" \")\n",
    "    for j in range(i+1):\n",
    "        print(\"*\",end=\" \")\n",
    "    print()\n",
    "for i in range(n):    \n",
    "    for j in range(i+1):\n",
    "        print(\" \",end=\" \")\n",
    "    for j in range(i,n-1):\n",
    "        print(\"*\",end=\" \")\n",
    "    for j in range(i,n):\n",
    "        print(\"*\",end=\" \")\n",
    "    print()"
   ]
  },
  {
   "cell_type": "markdown",
   "id": "cc13f8a5",
   "metadata": {},
   "source": [
    "# While loop\n",
    "A while loop is used to repeatedly execute a block of code as long as a certain condition is True. It is useful when you want to keep executing a set of statements until a specific condition is no longer met.\n",
    "Syntax:\n",
    "while condition:\n",
    "    # code to be executed as long as the condition is True"
   ]
  },
  {
   "cell_type": "code",
   "execution_count": 64,
   "id": "602b2865",
   "metadata": {},
   "outputs": [
    {
     "name": "stdout",
     "output_type": "stream",
     "text": [
      "2\n",
      "3\n",
      "4\n",
      "5\n",
      "6\n",
      "7\n",
      "8\n",
      "9\n",
      "10\n",
      "11\n"
     ]
    }
   ],
   "source": [
    "a = 1 \n",
    "b = 10\n",
    "\n",
    "while a <=b :\n",
    "    a = a +1\n",
    "    print(a)"
   ]
  },
  {
   "cell_type": "code",
   "execution_count": 68,
   "id": "10840297",
   "metadata": {},
   "outputs": [
    {
     "name": "stdout",
     "output_type": "stream",
     "text": [
      "Enter your name: \n",
      "Enter your name: xyz\n",
      "Hello, xyz\n"
     ]
    }
   ],
   "source": [
    "name = \"\"\n",
    "\n",
    "while not name:\n",
    "    name = input(\"Enter your name: \")\n",
    "\n",
    "print(\"Hello,\", name)\n"
   ]
  },
  {
   "cell_type": "code",
   "execution_count": 69,
   "id": "e569c073",
   "metadata": {},
   "outputs": [
    {
     "name": "stdout",
     "output_type": "stream",
     "text": [
      "5\n",
      "4\n",
      "3\n",
      "2\n",
      "1\n",
      "Go!\n"
     ]
    }
   ],
   "source": [
    "countdown = 5\n",
    "\n",
    "while countdown > 0:\n",
    "    print(countdown)\n",
    "    countdown -= 1\n",
    "\n",
    "print(\"Go!\")\n"
   ]
  },
  {
   "cell_type": "code",
   "execution_count": 65,
   "id": "b1e0f716",
   "metadata": {},
   "outputs": [
    {
     "name": "stdout",
     "output_type": "stream",
     "text": [
      "1\n",
      "2\n",
      "3\n",
      "4\n",
      "5\n"
     ]
    }
   ],
   "source": [
    "a = 1 \n",
    "b = 10 \n",
    "while a <10 :\n",
    "    print(a)\n",
    "    if a == 5:\n",
    "        break\n",
    "    a = a +1\n",
    "else :\n",
    "    print(\"print this \")"
   ]
  },
  {
   "cell_type": "code",
   "execution_count": 66,
   "id": "6530d580",
   "metadata": {},
   "outputs": [
    {
     "name": "stdout",
     "output_type": "stream",
     "text": [
      "2\n",
      "3\n",
      "4\n",
      "5\n",
      "6\n",
      "7\n",
      "8\n",
      "9\n",
      "10\n"
     ]
    }
   ],
   "source": [
    "a = 1 \n",
    "b = 10 \n",
    "while a < b :\n",
    "    \n",
    "    a = a +1\n",
    "    if a == 3:\n",
    "        pass\n",
    "    print(a)"
   ]
  },
  {
   "cell_type": "code",
   "execution_count": 67,
   "id": "bd425584",
   "metadata": {},
   "outputs": [
    {
     "name": "stdout",
     "output_type": "stream",
     "text": [
      "3\n",
      "4\n"
     ]
    }
   ],
   "source": [
    "t = (3,4,5,6,7,8,9)\n",
    "a = 0 \n",
    "while a < len(t):\n",
    "    if t[a] == 6 or t[a] == 7 :\n",
    "        print(a)\n",
    "    a = a +1"
   ]
  },
  {
   "cell_type": "code",
   "execution_count": 71,
   "id": "3ccde044",
   "metadata": {},
   "outputs": [
    {
     "name": "stdout",
     "output_type": "stream",
     "text": [
      "*   \n",
      "* *   \n",
      "* * *   \n",
      "* * * *   \n",
      "* * * * *   \n"
     ]
    }
   ],
   "source": [
    "a=5\n",
    "i=1 \n",
    "while (i<=a):\n",
    "        print(\"* \"*(i),end='  ') \n",
    "        print()\n",
    "        i+=1\n",
    "   "
   ]
  },
  {
   "cell_type": "code",
   "execution_count": 72,
   "id": "7d558677",
   "metadata": {},
   "outputs": [
    {
     "name": "stdout",
     "output_type": "stream",
     "text": [
      " | | | | | \n",
      "  | | | | \n",
      "   | | | \n",
      "    | | \n",
      "     | \n"
     ]
    }
   ],
   "source": [
    "rows =5\n",
    "i = rows\n",
    "while(i >= 1):\n",
    "    j = 0\n",
    "    while(j <= rows - i):\n",
    "        print(end = ' ')\n",
    "        j = j + 1\n",
    "    k = 0\n",
    "    while(k < i):\n",
    "        print('|', end = ' ')\n",
    "        k = k + 1\n",
    "    i = i - 1\n",
    "    print()"
   ]
  },
  {
   "cell_type": "markdown",
   "id": "797b2e69",
   "metadata": {},
   "source": [
    "# Function"
   ]
  },
  {
   "cell_type": "code",
   "execution_count": 6,
   "id": "ada956b5",
   "metadata": {},
   "outputs": [
    {
     "name": "stdout",
     "output_type": "stream",
     "text": [
      "hello\n"
     ]
    }
   ],
   "source": [
    "def demo():\n",
    "    print(\"hello\")\n",
    "demo()    "
   ]
  },
  {
   "cell_type": "code",
   "execution_count": 8,
   "id": "8883d217",
   "metadata": {},
   "outputs": [
    {
     "name": "stdout",
     "output_type": "stream",
     "text": [
      "Abhi is an Engineer\n"
     ]
    }
   ],
   "source": [
    "#passing arguments\n",
    "\n",
    "def demo(name):\n",
    "    print(name,\"is an Engineer\")\n",
    "demo(\"Abhi\")   "
   ]
  },
  {
   "cell_type": "code",
   "execution_count": 10,
   "id": "f624086a",
   "metadata": {},
   "outputs": [
    {
     "name": "stdout",
     "output_type": "stream",
     "text": [
      "sum of a and b :  15\n"
     ]
    }
   ],
   "source": [
    "def add(a,b):\n",
    "    c = a+b\n",
    "    return c\n",
    "result=add(5,10)\n",
    "print(\"sum of a and b : \",result)"
   ]
  },
  {
   "cell_type": "code",
   "execution_count": 4,
   "id": "16a88731",
   "metadata": {},
   "outputs": [
    {
     "name": "stdout",
     "output_type": "stream",
     "text": [
      "Enter the first number : 20\n",
      "Enter the Second number : 5\n",
      "The Sum of 20.0 and 5.0 :  25.0\n",
      "The difference of 20.0 and 5.0 :  15.0\n",
      "The product of 20.0 and 5.0 :  100.0\n",
      "The division of 20.0 and 5.0 :  4.0\n"
     ]
    }
   ],
   "source": [
    "# function without return\n",
    "def calculator():\n",
    "    num1 = float(input(\"Enter the first number : \"))\n",
    "    num2 = float(input(\"Enter the Second number : \"))\n",
    "    \n",
    "    #Addition\n",
    "    result = num1+num2\n",
    "    print(\"The Sum of\",num1,\"and\",num2,\": \",result)\n",
    "    \n",
    "    #subtration\n",
    "    result = num1-num2\n",
    "    print(\"The difference of\",num1,\"and\",num2,\": \",result)\n",
    "    \n",
    "    #multiplication\n",
    "    result = num1*num2\n",
    "    print(\"The product of\",num1,\"and\",num2,\": \",result)\n",
    "    \n",
    "    #Division\n",
    "    result = num1/num2\n",
    "    print(\"The division of\",num1,\"and\",num2,\": \",result)\n",
    "    \n",
    "calculator()    "
   ]
  },
  {
   "cell_type": "code",
   "execution_count": 13,
   "id": "9a1f9803",
   "metadata": {},
   "outputs": [
    {
     "name": "stdout",
     "output_type": "stream",
     "text": [
      "Enter the first number : 10\n",
      "Enter the Second number : 2\n",
      "The Sum of:  12.0\n",
      "The difference of :  8.0\n",
      "The product of :  20.0\n",
      "The division of :  5.0\n"
     ]
    }
   ],
   "source": [
    "# function with return\n",
    "def calculator():\n",
    "    num1 = float(input(\"Enter the first number : \"))\n",
    "    num2 = float(input(\"Enter the Second number : \"))\n",
    "    \n",
    "    #Addition\n",
    "    sum_result = num1+num2\n",
    "    \n",
    "    #subtration\n",
    "    diff_result = num1-num2\n",
    "   \n",
    "    #multiplication\n",
    "    mul_result = num1*num2\n",
    "   \n",
    "    #Division\n",
    "    div_result = num1/num2\n",
    "  \n",
    "    return{\n",
    "        \"sum\":sum_result,\n",
    "        \"dif\":diff_result,\n",
    "        \"mul\":mul_result,\n",
    "        \"div\":div_result\n",
    "    }\n",
    "    \n",
    "results = calculator() \n",
    "print(\"The Sum of: \",results[\"sum\"])\n",
    "print(\"The difference of : \",results[\"dif\"])\n",
    "print(\"The product of : \",results[\"mul\"])\n",
    "print(\"The division of : \",results[\"div\"])\n",
    "    "
   ]
  },
  {
   "cell_type": "code",
   "execution_count": 9,
   "id": "f4fff5fb",
   "metadata": {},
   "outputs": [
    {
     "name": "stdout",
     "output_type": "stream",
     "text": [
      "Enter the first name : aiysWARYA\n",
      "Enter the first name : sivaNANDHAN\n",
      "('Aiyswarya', 'Sivanandhan')\n"
     ]
    }
   ],
   "source": [
    "def demo():\n",
    "    first_name = input(\"Enter the first name : \")\n",
    "    last_name = input(\"Enter the first name : \")\n",
    "    str1= first_name.capitalize()\n",
    "    str2= last_name.capitalize()\n",
    "    return str1,str2\n",
    "result = demo()\n",
    "print(result)\n"
   ]
  },
  {
   "cell_type": "code",
   "execution_count": 23,
   "id": "7d12fd3e",
   "metadata": {},
   "outputs": [
    {
     "name": "stdout",
     "output_type": "stream",
     "text": [
      "Enter the number : 10\n",
      "Even number upto 10 are :  [2, 4, 6, 8, 10]\n",
      "Odd number upto 10 are :  [1, 3, 5, 7, 9]\n"
     ]
    }
   ],
   "source": [
    "# print even and odd number \n",
    "def even_number():\n",
    "    num = int(input(\"Enter the number : \"))\n",
    "    even=[]\n",
    "    odd=[]\n",
    "    for i in range(1,num+1):\n",
    "        if i % 2 == 0:\n",
    "            even.append(i)\n",
    "        else :\n",
    "            odd.append(i)\n",
    "    print(\"Even number upto\",num,\"are : \",even)\n",
    "    print(\"Odd number upto\",num,\"are : \",odd)\n",
    "even_number()            "
   ]
  },
  {
   "cell_type": "markdown",
   "id": "ac5eb5e5",
   "metadata": {},
   "source": [
    "# Iterator"
   ]
  },
  {
   "cell_type": "markdown",
   "id": "1b012414",
   "metadata": {},
   "source": [
    "An iterator is an object that allows you to iterate over a sequence of elements.\n",
    "To create an iterator, you need to define a class that implements two methods: `_iter()` and `next()`. \n",
    "The `iter()` method returns the iterator object itself and is used to initialize the iteration. \n",
    "The `next_()` method returns the next element in the sequence. \n",
    "If there are no more elements, it should raise the `StopIteration` exception."
   ]
  },
  {
   "cell_type": "code",
   "execution_count": 2,
   "id": "9ad8aba1",
   "metadata": {},
   "outputs": [
    {
     "name": "stdout",
     "output_type": "stream",
     "text": [
      "1\n",
      "2\n",
      "3\n",
      "4\n",
      "5\n"
     ]
    }
   ],
   "source": [
    "class NumberIterator:\n",
    "    def __init__(self, numbers):\n",
    "        self.numbers = numbers\n",
    "        self.index = 0\n",
    "\n",
    "    def __iter__(self):\n",
    "        return self\n",
    "\n",
    "    def __next__(self):\n",
    "        if self.index >= len(self.numbers):\n",
    "            raise StopIteration\n",
    "        number = self.numbers[self.index]\n",
    "        self.index += 1\n",
    "        return number\n",
    "\n",
    "numbers = [1, 2, 3, 4, 5]\n",
    "iterator = NumberIterator(numbers)\n",
    "\n",
    "for number in iterator:\n",
    "    print(number)"
   ]
  },
  {
   "cell_type": "markdown",
   "id": "63248752",
   "metadata": {},
   "source": [
    "# Generator"
   ]
  },
  {
   "cell_type": "markdown",
   "id": "b40f7a9e",
   "metadata": {},
   "source": [
    "In Python, a generator is a special type of iterator that generates values on-the-fly. \n",
    "It allows you to iterate over a sequence of values without storing them all in memory at once, making it memory-efficient and suitable for handling large datasets or infinite sequences."
   ]
  },
  {
   "cell_type": "code",
   "execution_count": 1,
   "id": "79616a22",
   "metadata": {},
   "outputs": [
    {
     "name": "stdout",
     "output_type": "stream",
     "text": [
      "0\n",
      "1\n",
      "4\n",
      "9\n",
      "16\n"
     ]
    }
   ],
   "source": [
    "def square_generator(n):\n",
    "    for i in range(n):\n",
    "        yield i ** 2\n",
    "\n",
    "# Using the generator function\n",
    "my_generator = square_generator(5)\n",
    "for num in my_generator:\n",
    "    print(num)\n"
   ]
  },
  {
   "cell_type": "code",
   "execution_count": 2,
   "id": "145cc7af",
   "metadata": {},
   "outputs": [
    {
     "name": "stdout",
     "output_type": "stream",
     "text": [
      "0\n",
      "2\n",
      "4\n",
      "6\n",
      "8\n"
     ]
    }
   ],
   "source": [
    "even_generator = (num for num in range(10) if num % 2 == 0)\n",
    "\n",
    "# Using the generator expression\n",
    "for num in even_generator:\n",
    "    print(num)\n"
   ]
  },
  {
   "cell_type": "markdown",
   "id": "0aa8959a",
   "metadata": {},
   "source": [
    "# Map()\n",
    "\n",
    "In Python, the `map()` function is used to apply a given function to each item of an iterable (such as a list, tuple, or string) and returns an iterator that yields the results. It provides a concise way to transform or modify elements in a collection without using explicit loops.\n",
    "map(function, iterable)"
   ]
  },
  {
   "cell_type": "code",
   "execution_count": 4,
   "id": "2757640b",
   "metadata": {},
   "outputs": [
    {
     "name": "stdout",
     "output_type": "stream",
     "text": [
      "1\n",
      "4\n",
      "9\n",
      "16\n",
      "25\n"
     ]
    }
   ],
   "source": [
    "numbers = [1, 2, 3, 4, 5]\n",
    "square_rrot = map(lambda x: x**2, numbers)\n",
    "\n",
    "# Printing the squared values\n",
    "for num in square_root:\n",
    "    print(num)"
   ]
  },
  {
   "cell_type": "code",
   "execution_count": 5,
   "id": "3a1eda1b",
   "metadata": {},
   "outputs": [
    {
     "name": "stdout",
     "output_type": "stream",
     "text": [
      "AIYSHU\n",
      "ABHI\n",
      "SURYA\n"
     ]
    }
   ],
   "source": [
    "name=['aiyshu','abhi','surya']\n",
    "string = map(str.upper,name)\n",
    "for i in string:\n",
    "    print(i)"
   ]
  },
  {
   "cell_type": "code",
   "execution_count": 6,
   "id": "d43aaec1",
   "metadata": {},
   "outputs": [
    {
     "name": "stdout",
     "output_type": "stream",
     "text": [
      "11\n",
      "22\n",
      "33\n"
     ]
    }
   ],
   "source": [
    "numbers1 = [1, 2, 3]\n",
    "numbers2 = [10, 20, 30]\n",
    "sums = map(lambda x, y: x + y, numbers1, numbers2)\n",
    "\n",
    "# Printing the sums of corresponding elements\n",
    "for num in sums:\n",
    "    print(num)"
   ]
  },
  {
   "cell_type": "markdown",
   "id": "01b92a9b",
   "metadata": {},
   "source": [
    "# Lambda\n",
    "\n",
    "A lambda function (also known as an anonymous function) is a way to define a small, one-line function without using the `def` keyword. Lambda functions are often used when you need a simple function that will be used only once or when you want to pass a function as an argument to another function.\n",
    "\n",
    "The syntax for a lambda function is as follows:\n",
    "\n",
    "lambda arguments: expression"
   ]
  },
  {
   "cell_type": "code",
   "execution_count": 7,
   "id": "96fe3d76",
   "metadata": {},
   "outputs": [
    {
     "name": "stdout",
     "output_type": "stream",
     "text": [
      "20\n"
     ]
    }
   ],
   "source": [
    "double = lambda x: x*2\n",
    "print(double(10))"
   ]
  },
  {
   "cell_type": "code",
   "execution_count": 8,
   "id": "18bcec1c",
   "metadata": {},
   "outputs": [
    {
     "name": "stdout",
     "output_type": "stream",
     "text": [
      "30\n"
     ]
    }
   ],
   "source": [
    "add = lambda x,y: x+y\n",
    "print(add(10,20))"
   ]
  },
  {
   "cell_type": "code",
   "execution_count": 9,
   "id": "8b104780",
   "metadata": {},
   "outputs": [
    {
     "name": "stdout",
     "output_type": "stream",
     "text": [
      "[('Bob', 19), ('Alice', 20), ('Charlie', 22)]\n"
     ]
    }
   ],
   "source": [
    "students = [('Alice', 20), ('Bob', 19), ('Charlie', 22)]\n",
    "students.sort(key=lambda x: x[1])\n",
    "\n",
    "print(students)  "
   ]
  },
  {
   "cell_type": "code",
   "execution_count": 10,
   "id": "dcd82c79",
   "metadata": {},
   "outputs": [
    {
     "name": "stdout",
     "output_type": "stream",
     "text": [
      "[2, 4, 6, 8, 10]\n"
     ]
    }
   ],
   "source": [
    "#filter with lambda\n",
    "numbers = [1, 2, 3, 4, 5, 6, 7, 8, 9, 10]\n",
    "even_numbers = list(filter(lambda x: x % 2 == 0, numbers))\n",
    "print(even_numbers)  "
   ]
  },
  {
   "cell_type": "code",
   "execution_count": 25,
   "id": "25bea6a4",
   "metadata": {},
   "outputs": [
    {
     "name": "stdout",
     "output_type": "stream",
     "text": [
      "Even\n",
      "Odd\n"
     ]
    }
   ],
   "source": [
    "even_odd = lambda x: 'Even'if x%2==0 else 'Odd'\n",
    "print(even_odd(12))\n",
    "print(even_odd(7))"
   ]
  },
  {
   "cell_type": "markdown",
   "id": "9c9ddc8c",
   "metadata": {},
   "source": [
    "# Filter()\n",
    "\n",
    "In Python, the `filter()` function is used to create an iterator that filters elements from an iterable based on a given function. It takes two arguments: the filtering function and the iterable.\n",
    "\n",
    "The general syntax of the `filter()` function is as follows:\n",
    "filter(function, iterable)"
   ]
  },
  {
   "cell_type": "code",
   "execution_count": 11,
   "id": "849ec211",
   "metadata": {},
   "outputs": [
    {
     "name": "stdout",
     "output_type": "stream",
     "text": [
      "2\n",
      "4\n",
      "6\n"
     ]
    }
   ],
   "source": [
    "#filter even numbers\n",
    "numbers = [1, 2, 3, 4, 5, 6]\n",
    "even_numbers = filter(lambda x: x % 2 == 0, numbers)\n",
    "\n",
    "# Printing the even numbers\n",
    "for num in even_numbers:\n",
    "    print(num)"
   ]
  },
  {
   "cell_type": "code",
   "execution_count": 15,
   "id": "388e1c2f",
   "metadata": {},
   "outputs": [
    {
     "name": "stdout",
     "output_type": "stream",
     "text": [
      "Alice\n",
      "Charlie\n",
      "Dave\n",
      "['Charlie']\n"
     ]
    }
   ],
   "source": [
    "#Filtering strings longer than 3 characters from a list using `filter()`:\n",
    "\n",
    "names = ['Alice', 'Bob', 'Charlie', 'Dave']\n",
    "long_names = filter(lambda name: len(name) > 3, names)\n",
    "\n",
    "# Printing the long names\n",
    "for name in long_names:\n",
    "    print(name)\n",
    "    \n",
    "#Filter name starting with\n",
    "\n",
    "filtered_names = list(filter(lambda x: x.startswith(\"C\"), names))\n",
    "print(filtered_names)    "
   ]
  },
  {
   "cell_type": "code",
   "execution_count": 13,
   "id": "e064f1f6",
   "metadata": {},
   "outputs": [
    {
     "name": "stdout",
     "output_type": "stream",
     "text": [
      "Hello\n",
      "World\n"
     ]
    }
   ],
   "source": [
    "# Filtering non-empty strings from a list using `filter()`:\n",
    "\n",
    "strings = ['', 'Hello', '', 'World', '']\n",
    "non_empty_strings = filter(lambda s: len(s) > 0, strings)\n",
    "\n",
    "# Printing the non-empty strings\n",
    "for string in non_empty_strings:\n",
    "    print(string)"
   ]
  },
  {
   "cell_type": "markdown",
   "id": "aa8f4f3d",
   "metadata": {},
   "source": [
    "# Reduce\n",
    "\n",
    "In Python, the `reduce()` function is used to apply a function to an iterable and reduce it to a single value. It is part of the `functools` module and needs to be imported before use. The function passed to `reduce()` should accept two arguments and return a single value.\n",
    "\n",
    "The general syntax of the `reduce()` function is as follows:\n",
    "\n",
    "reduce(function, iterable[, initializer])"
   ]
  },
  {
   "cell_type": "code",
   "execution_count": 16,
   "id": "4b659313",
   "metadata": {},
   "outputs": [
    {
     "name": "stdout",
     "output_type": "stream",
     "text": [
      "15\n"
     ]
    }
   ],
   "source": [
    "from functools import reduce\n",
    "\n",
    "numbers = [1, 2, 3, 4, 5]\n",
    "sum = reduce(lambda x, y: x + y, numbers)\n",
    "\n",
    "print(sum)"
   ]
  },
  {
   "cell_type": "code",
   "execution_count": 17,
   "id": "78adbd96",
   "metadata": {},
   "outputs": [
    {
     "name": "stdout",
     "output_type": "stream",
     "text": [
      "9\n"
     ]
    }
   ],
   "source": [
    "# Example 1: Finding the maximum value in a list using `reduce()` with an initializer:\n",
    "\n",
    "from functools import reduce\n",
    "\n",
    "numbers = [5, 9, 2, 7, 3]\n",
    "max_value = reduce(lambda x, y: x if x > y else y, numbers, float('-inf'))\n",
    "\n",
    "print(max_value)"
   ]
  },
  {
   "cell_type": "code",
   "execution_count": 18,
   "id": "6937cb10",
   "metadata": {},
   "outputs": [
    {
     "name": "stdout",
     "output_type": "stream",
     "text": [
      "Hello World!\n"
     ]
    }
   ],
   "source": [
    "#  Concatenating strings in a list using `reduce()` with an initializer:\n",
    "\n",
    "from functools import reduce\n",
    "\n",
    "strings = ['Hello', ' ', 'World', '!']\n",
    "concatenated = reduce(lambda x, y: x + y, strings, '')\n",
    "\n",
    "print(concatenated)"
   ]
  },
  {
   "cell_type": "code",
   "execution_count": 19,
   "id": "c8574755",
   "metadata": {},
   "outputs": [
    {
     "name": "stdout",
     "output_type": "stream",
     "text": [
      "120\n"
     ]
    }
   ],
   "source": [
    "#Computing the product of numbers in a list using `reduce()` with an initializer:\n",
    "\n",
    "from functools import reduce\n",
    "\n",
    "numbers = [2, 3, 4, 5]\n",
    "product = reduce(lambda x, y: x * y, numbers, 1)\n",
    "\n",
    "print(product)"
   ]
  },
  {
   "cell_type": "code",
   "execution_count": 20,
   "id": "28cf661f",
   "metadata": {},
   "outputs": [
    {
     "name": "stdout",
     "output_type": "stream",
     "text": [
      "10\n"
     ]
    }
   ],
   "source": [
    "#finding max value\n",
    "from functools import reduce\n",
    "\n",
    "numbers = [8, 2, 6, 10, 4]\n",
    "max_result = reduce(lambda x, y: x if x > y else y, numbers)\n",
    "print(max_result)"
   ]
  },
  {
   "cell_type": "markdown",
   "id": "a2da35f0",
   "metadata": {},
   "source": [
    "# Recursion"
   ]
  }
 ],
 "metadata": {
  "kernelspec": {
   "display_name": "Python 3 (ipykernel)",
   "language": "python",
   "name": "python3"
  },
  "language_info": {
   "codemirror_mode": {
    "name": "ipython",
    "version": 3
   },
   "file_extension": ".py",
   "mimetype": "text/x-python",
   "name": "python",
   "nbconvert_exporter": "python",
   "pygments_lexer": "ipython3",
   "version": "3.10.9"
  }
 },
 "nbformat": 4,
 "nbformat_minor": 5
}
